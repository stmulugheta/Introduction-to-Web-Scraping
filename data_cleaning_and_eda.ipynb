{
  "nbformat": 4,
  "nbformat_minor": 0,
  "metadata": {
    "kernelspec": {
      "name": "python3",
      "display_name": "Python 3"
    },
    "toc": {
      "base_numbering": 1,
      "nav_menu": {},
      "number_sections": true,
      "sideBar": true,
      "skip_h1_title": false,
      "title_cell": "Table of Contents",
      "title_sidebar": "Contents",
      "toc_cell": false,
      "toc_position": {
        "height": "calc(100% - 180px)",
        "left": "10px",
        "top": "150px",
        "width": "165px"
      },
      "toc_section_display": true,
      "toc_window_display": true
    },
    "colab": {
      "name": "01_data_cleaning_and_eda.ipynb",
      "private_outputs": true,
      "provenance": [],
      "toc_visible": true,
      "include_colab_link": true
    },
    "language_info": {
      "name": "python"
    }
  },
  "cells": [
    {
      "cell_type": "markdown",
      "metadata": {
        "id": "view-in-github",
        "colab_type": "text"
      },
      "source": [
        "<a href=\"https://colab.research.google.com/github/stmulugheta/Introduction-to-Web-Scraping/blob/main/data_cleaning_and_eda.ipynb\" target=\"_parent\"><img src=\"https://colab.research.google.com/assets/colab-badge.svg\" alt=\"Open In Colab\"/></a>"
      ]
    },
    {
      "cell_type": "markdown",
      "metadata": {
        "id": "uQ3Q42UReHTF"
      },
      "source": [
        "# Sales Forecasting Notebook\n",
        "Data Cleaning and EDA part"
      ]
    },
    {
      "cell_type": "code",
      "metadata": {
        "id": "d7cKO9lEeWpa"
      },
      "source": [
        ""
      ],
      "execution_count": null,
      "outputs": []
    },
    {
      "cell_type": "markdown",
      "metadata": {
        "id": "WSJQofvAeZ0V"
      },
      "source": [
        "# Importing important libraries"
      ]
    },
    {
      "cell_type": "code",
      "metadata": {
        "id": "AtcZwFZ9eBNI"
      },
      "source": [
        "import pandas as pd\n",
        "import numpy as np\n",
        "\n",
        "import seaborn as sns\n",
        "import matplotlib.pyplot as plt\n",
        "import matplotlib.dates as mdates\n",
        "%matplotlib inline\n",
        "\n",
        "import datetime\n",
        "\n",
        "import statsmodels.tsa.api as smt"
      ],
      "execution_count": null,
      "outputs": []
    },
    {
      "cell_type": "markdown",
      "metadata": {
        "id": "akNmT4BveBNO"
      },
      "source": [
        "# Load and View Data"
      ]
    },
    {
      "cell_type": "code",
      "metadata": {
        "id": "KxRf-lujeBNQ"
      },
      "source": [
        "def load_data():  \n",
        "    return pd.read_csv('/content/train.csv')  \n"
      ],
      "execution_count": null,
      "outputs": []
    },
    {
      "cell_type": "code",
      "metadata": {
        "id": "MJLXZF7Jh8ey"
      },
      "source": [
        "from google.colab import files\n",
        "files.upload()"
      ],
      "execution_count": null,
      "outputs": []
    },
    {
      "cell_type": "code",
      "metadata": {
        "id": "3vt7eJc6eBNR"
      },
      "source": [
        "sales_data.info()"
      ],
      "execution_count": null,
      "outputs": []
    },
    {
      "cell_type": "code",
      "metadata": {
        "id": "clpaeWAAeBNT"
      },
      "source": [
        "sales_data.head()"
      ],
      "execution_count": null,
      "outputs": []
    },
    {
      "cell_type": "code",
      "metadata": {
        "id": "YG1vf874eBNU"
      },
      "source": [
        "def monthly_sales(data):\n",
        "    monthly_data = data.copy()\n",
        "    monthly_data.date = monthly_data.date.apply(lambda x: str(x)[:-3])\n",
        "    monthly_data = monthly_data.groupby('date')['sales'].sum().reset_index()\n",
        "    monthly_data.date = pd.to_datetime(monthly_data.date)\n",
        "    return monthly_data"
      ],
      "execution_count": null,
      "outputs": []
    },
    {
      "cell_type": "code",
      "metadata": {
        "id": "CApEjO-NeBNV"
      },
      "source": [
        "monthly_df = monthly_sales(sales_data)\n",
        "monthly_df.head()"
      ],
      "execution_count": null,
      "outputs": []
    },
    {
      "cell_type": "markdown",
      "metadata": {
        "heading_collapsed": true,
        "id": "qwjOn-rieBNX"
      },
      "source": [
        "# EDA"
      ]
    },
    {
      "cell_type": "code",
      "metadata": {
        "hidden": true,
        "id": "YSSF5IOUeBNY"
      },
      "source": [
        "# Duration of dataset\n",
        "def sales_duration(data):\n",
        "    data.date = pd.to_datetime(data.date)\n",
        "    number_of_days = data.date.max() - data.date.min()\n",
        "    number_of_years = number_of_days.days / 365\n",
        "    print(number_of_days.days, 'days')\n",
        "    print(number_of_years, 'years')\n",
        "    \n",
        "sales_duration(sales_data)"
      ],
      "execution_count": null,
      "outputs": []
    },
    {
      "cell_type": "code",
      "metadata": {
        "hidden": true,
        "id": "r1SwQpiseBNa"
      },
      "source": [
        "def sales_per_day():\n",
        "    fig, ax = plt.subplots(figsize=(7,4))\n",
        "    plt.hist(sales_data.sales, color='mediumblue')\n",
        "    \n",
        "    ax.set(xlabel = \"Sales Per day\",\n",
        "           ylabel = \"Count\",\n",
        "           title = \"Distrobution of Sales Per Day\")\n",
        "    \n",
        "sales_per_day()"
      ],
      "execution_count": null,
      "outputs": []
    },
    {
      "cell_type": "code",
      "metadata": {
        "hidden": true,
        "id": "IVFZOYJveBNc"
      },
      "source": [
        "def sales_per_store():\n",
        "    by_store = sales_data.groupby('store')['sales'].sum().reset_index()\n",
        "    \n",
        "    fig, ax = plt.subplots(figsize=(7,4))\n",
        "    sns.barplot(by_store.store, by_store.sales, color='mediumblue')\n",
        "    \n",
        "    ax.set(xlabel = \"Store ID\",\n",
        "           ylabel = \"Number of Sales\",\n",
        "           title = \"Total Sales Per Store\")\n",
        "    \n",
        "    sns.despine()\n",
        "    \n",
        "sales_per_store()"
      ],
      "execution_count": null,
      "outputs": []
    },
    {
      "cell_type": "code",
      "metadata": {
        "hidden": true,
        "id": "pWaBAwJneBNd"
      },
      "source": [
        "# Average monthly sales\n",
        "\n",
        "# Overall\n",
        "avg_monthly_sales = monthly_df.sales.mean()\n",
        "print(f\"Overall average monthly sales: ${avg_monthly_sales}\")\n",
        "\n",
        "# Last 12 months (this will be the forecasted sales)\n",
        "avg_monthly_sales_12month = monthly_df.sales[-12:].mean()\n",
        "print(f\"Last 12 months average monthly sales: ${avg_monthly_sales_12month}\")"
      ],
      "execution_count": null,
      "outputs": []
    },
    {
      "cell_type": "markdown",
      "metadata": {
        "id": "6xzytPIUeBNe"
      },
      "source": [
        "# Determining Stationarity"
      ]
    },
    {
      "cell_type": "code",
      "metadata": {
        "id": "3Mo0HHuseBNf"
      },
      "source": [
        "def time_plot(data, x_col, y_col, title):\n",
        "    fig, ax = plt.subplots(figsize=(15,5))\n",
        "    sns.lineplot(x_col, y_col, data=data, ax=ax, color='mediumblue', label='Total Sales')\n",
        "    \n",
        "    second = data.groupby(data.date.dt.year)[y_col].mean().reset_index()\n",
        "    second.date = pd.to_datetime(second.date, format='%Y')\n",
        "    sns.lineplot((second.date + datetime.timedelta(6*365/12)), y_col, data=second, ax=ax, color='red', label='Mean Sales')   \n",
        "    \n",
        "    ax.set(xlabel = \"Date\",\n",
        "           ylabel = \"Sales\",\n",
        "           title = title)\n",
        "    \n",
        "    sns.despine()"
      ],
      "execution_count": null,
      "outputs": []
    },
    {
      "cell_type": "code",
      "metadata": {
        "id": "-2I9OuPZeBNf"
      },
      "source": [
        "time_plot(monthly_df, 'date', 'sales', 'Monthly Sales Before Diff Transformation')"
      ],
      "execution_count": null,
      "outputs": []
    },
    {
      "cell_type": "code",
      "metadata": {
        "id": "SOqpnqeueBNg"
      },
      "source": [
        "def get_diff(data):\n",
        "    data['sales_diff'] = data.sales.diff()\n",
        "    data = data.dropna()\n",
        "    \n",
        "    data.to_csv('../data/stationary_df.csv')\n",
        "    return data"
      ],
      "execution_count": null,
      "outputs": []
    },
    {
      "cell_type": "code",
      "metadata": {
        "id": "QbAeZ4SjeBNh"
      },
      "source": [
        "stationary_df = get_diff(monthly_df)"
      ],
      "execution_count": null,
      "outputs": []
    },
    {
      "cell_type": "code",
      "metadata": {
        "id": "N7rAgoiEeBNi"
      },
      "source": [
        "time_plot(stationary_df, 'date', 'sales_diff', 'Monthly Sales After Diff Transformation')"
      ],
      "execution_count": null,
      "outputs": []
    },
    {
      "cell_type": "markdown",
      "metadata": {
        "id": "T4_MR1s5eBNi"
      },
      "source": [
        "# Observing Lags"
      ]
    },
    {
      "cell_type": "code",
      "metadata": {
        "id": "WE9CBk_YeBNj"
      },
      "source": [
        "def plots(data, lags=None):\n",
        "    \n",
        "    # Convert dataframe to datetime index\n",
        "    dt_data = data.set_index('date').drop('sales', axis=1)\n",
        "    dt_data.dropna(axis=0)\n",
        "    \n",
        "    layout = (1, 3)\n",
        "    raw  = plt.subplot2grid(layout, (0, 0))\n",
        "    acf  = plt.subplot2grid(layout, (0, 1))\n",
        "    pacf = plt.subplot2grid(layout, (0, 2))\n",
        "    \n",
        "    dt_data.plot(ax=raw, figsize=(12, 5), color='mediumblue')\n",
        "    smt.graphics.plot_acf(dt_data, lags=lags, ax=acf, color='mediumblue')\n",
        "    smt.graphics.plot_pacf(dt_data, lags=lags, ax=pacf, color='mediumblue')\n",
        "    sns.despine()\n",
        "    plt.tight_layout()\n",
        "\n",
        "plots(stationary_df, lags=24);"
      ],
      "execution_count": null,
      "outputs": []
    },
    {
      "cell_type": "markdown",
      "metadata": {
        "id": "AjrjxpWveBNj"
      },
      "source": [
        "# Preparing Dataset Modeling"
      ]
    },
    {
      "cell_type": "markdown",
      "metadata": {
        "id": "4jOvYcAVeBNk"
      },
      "source": [
        "## Regressive Modeling"
      ]
    },
    {
      "cell_type": "code",
      "metadata": {
        "id": "Afm6LPN-eBNk"
      },
      "source": [
        "#create dataframe for transformation from time series to supervised\n",
        "def generate_supervised(data):\n",
        "    supervised_df = data.copy()\n",
        "    \n",
        "    #create column for each lag\n",
        "    for i in range(1,13):\n",
        "        col_name = 'lag_' + str(i)\n",
        "        supervised_df[col_name] = supervised_df['sales_diff'].shift(i)\n",
        "    \n",
        "    #drop null values\n",
        "    supervised_df = supervised_df.dropna().reset_index(drop=True)\n",
        "    \n",
        "    supervised_df.to_csv('../data/model_df.csv', index=False)\n",
        "    \n",
        "    return supervised_df"
      ],
      "execution_count": null,
      "outputs": []
    },
    {
      "cell_type": "code",
      "metadata": {
        "id": "yMFTnu_ReBNk"
      },
      "source": [
        "model_df = generate_supervised(stationary_df)"
      ],
      "execution_count": null,
      "outputs": []
    },
    {
      "cell_type": "code",
      "metadata": {
        "id": "QGWPapdfeBNl"
      },
      "source": [
        "model_df"
      ],
      "execution_count": null,
      "outputs": []
    },
    {
      "cell_type": "markdown",
      "metadata": {
        "id": "8pu8AFjWeBNl"
      },
      "source": [
        "## ARIMA Modeling"
      ]
    },
    {
      "cell_type": "code",
      "metadata": {
        "id": "Y7rmD22LeBNl"
      },
      "source": [
        "def generate_arima_data(data):\n",
        "    dt_data = data.set_index('date').drop('sales', axis=1)\n",
        "    dt_data.dropna(axis=0)\n",
        "    \n",
        "    dt_data.to_csv('../data/arima_df.csv')\n",
        "    \n",
        "    return dt_data"
      ],
      "execution_count": null,
      "outputs": []
    },
    {
      "cell_type": "code",
      "metadata": {
        "id": "8XIxcNwdeBNl"
      },
      "source": [
        "datetime_df = generate_arima_data(stationary_df)"
      ],
      "execution_count": null,
      "outputs": []
    },
    {
      "cell_type": "code",
      "metadata": {
        "id": "tIkmjDYleBNm"
      },
      "source": [
        "datetime_df"
      ],
      "execution_count": null,
      "outputs": []
    },
    {
      "cell_type": "code",
      "metadata": {
        "id": "KGqrFQDheBNm"
      },
      "source": [
        ""
      ],
      "execution_count": null,
      "outputs": []
    }
  ]
}