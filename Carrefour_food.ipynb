{
  "nbformat": 4,
  "nbformat_minor": 0,
  "metadata": {
    "colab": {
      "name": "Carrefour_food.ipynb",
      "provenance": [],
      "include_colab_link": true
    },
    "kernelspec": {
      "name": "python3",
      "display_name": "Python 3"
    },
    "language_info": {
      "name": "python"
    }
  },
  "cells": [
    {
      "cell_type": "markdown",
      "metadata": {
        "id": "view-in-github",
        "colab_type": "text"
      },
      "source": [
        "<a href=\"https://colab.research.google.com/github/stmulugheta/Introduction-to-Web-Scraping/blob/main/Carrefour_food.ipynb\" target=\"_parent\"><img src=\"https://colab.research.google.com/assets/colab-badge.svg\" alt=\"Open In Colab\"/></a>"
      ]
    },
    {
      "cell_type": "code",
      "metadata": {
        "colab": {
          "base_uri": "https://localhost:8080/"
        },
        "id": "udy0ej76U8JM",
        "outputId": "736ce00b-c4d3-4a56-e53a-a1a24b443553"
      },
      "source": [
        "from google.colab import drive\n",
        "drive.mount('/content/drive')"
      ],
      "execution_count": null,
      "outputs": [
        {
          "output_type": "stream",
          "name": "stdout",
          "text": [
            "Mounted at /content/drive\n"
          ]
        }
      ]
    },
    {
      "cell_type": "code",
      "metadata": {
        "colab": {
          "base_uri": "https://localhost:8080/",
          "height": 35
        },
        "id": "RnyrJzIfVfPV",
        "outputId": "84d6a06d-332d-41f9-bafb-0a0035587b91"
      },
      "source": [
        "import os\n",
        "#import sys\n",
        "os.getcwd()"
      ],
      "execution_count": null,
      "outputs": [
        {
          "output_type": "execute_result",
          "data": {
            "application/vnd.google.colaboratory.intrinsic+json": {
              "type": "string"
            },
            "text/plain": [
              "'/content'"
            ]
          },
          "metadata": {},
          "execution_count": 3
        }
      ]
    },
    {
      "cell_type": "code",
      "metadata": {
        "id": "IlcE7D2kVJIu"
      },
      "source": [
        "# Scraper for Carrefour Retailer Website in Belgium\n",
        "import requests\n",
        "from bs4 import BeautifulSoup as soup \n",
        "from urllib.request import urlopen as uReq\n",
        "import pandas as pd\n",
        "import re"
      ],
      "execution_count": null,
      "outputs": []
    },
    {
      "cell_type": "code",
      "metadata": {
        "id": "eGjyqn7oVXKn"
      },
      "source": [
        "import time"
      ],
      "execution_count": null,
      "outputs": []
    },
    {
      "cell_type": "code",
      "metadata": {
        "id": "zwgt2XdsVox2"
      },
      "source": [
        "# The initial page of fresh food and drink\n",
        "CarrefourURL = \"https://drive.carrefour.be/nl/Verse-producten/c/ProduitsFrais?q=%3Arelevance\""
      ],
      "execution_count": null,
      "outputs": []
    },
    {
      "cell_type": "code",
      "metadata": {
        "id": "UDXVcHp7V8ap"
      },
      "source": [
        "def has_numbers(inputString):\n",
        "    # Check whether there is number in title\n",
        "    return any(char.isdigit() for char in inputString)\n",
        "     "
      ],
      "execution_count": null,
      "outputs": []
    },
    {
      "cell_type": "code",
      "metadata": {
        "id": "826HrNJcWFma"
      },
      "source": [
        "def html_parse(url):\n",
        "  # Create a function to extract products variables from html \n",
        "\n",
        "  # Create a list to store all the products\n",
        "  products_all = []\n",
        "  # Create a variable to store page number\n",
        "  page_no = 1\n",
        "\n",
        "  # scrape products info page by page\n",
        "  while True:\n",
        "    \n",
        "    # create a response object to get the web\n",
        "    get_url = requests.get(url)\n",
        "    data = get_url.text\n",
        "    html_soup = soup(data, 'html.parser')\n",
        "\n",
        "    # Create a list to store one page products\n",
        "    products_one_page = []\n",
        "    # Extract specific html tags into a list\n",
        "    results = html_soup.find_all('div', {'class':'wrapper'})\n",
        "\n",
        "      \n",
        "    # create product dictionary to retain the attributes of each product\n",
        "    for item in results:\n",
        "        \n",
        "        # Get product overall info\n",
        "        product = item.find('a', {'name select_item name-title select_promotion_item'})\n",
        "            \n",
        "        # Get product id\n",
        "        product_id = product.get('data-item_id')\n",
        "\n",
        "        # Get brand\n",
        "        try:\n",
        "          brand = product.get('data-item_brand')\n",
        "        except:\n",
        "          brand = '-1'\n",
        "\n",
        "        # Get product title, including product name and quantity\n",
        "        title =  product.get('data-item_name')\n",
        "     \n",
        "        # Split title to name and quantity       \n",
        "        title_split = title.split()\n",
        "\n",
        "        # Identify quantity and title\n",
        "        try: \n",
        "          quantity = item.find('span',{'class':'cart_dyanmic_quant'}).text.strip()[1:]\n",
        "          # Partition title by '0.'\n",
        "          product_name = title.partition('0.')[0]\n",
        "        except:\n",
        "          try:\n",
        "            if has_numbers(title):           \n",
        "              if title_split[-3] == 'x':   \n",
        "                quantity = title_split[-4] + title_split[-3] + title_split[-2] + title_split[-1]\n",
        "              else:\n",
        "                quantity = title_split[-2] + title_split[-1]  \n",
        "                # Identify name\n",
        "                # Partition title by the first character of quantity     \n",
        "                product_name = title.partition(quantity[0])[0]\n",
        "              if quantity.replace(' ','').isalpha():\n",
        "                quantity = '-1'\n",
        "                product_name = title\n",
        "              elif quantity[0].isalpha():\n",
        "                split = re.split('(\\d+)', quantity)\n",
        "                quantity = ''.join(split[1:])\n",
        "                product_name = product_name + ' ' + split[0]\n",
        "          except:\n",
        "                quantity = '-1'\n",
        "                product_name = title\n",
        "\n",
        "        try:\n",
        "          if quantity == '-1':\n",
        "            x = re.findall('\\d\\d\\s', product_name)\n",
        "            y = re.findall(\"\\d\\s\", product_name)\n",
        "            z = re.findall('(\\d+)', product_name)\n",
        "            if x:\n",
        "              quantity = x[0]\n",
        "            elif y:\n",
        "              quantity = y[0] \n",
        "            elif z:\n",
        "              quantity = ''.join(product_name.partition(z[0])[1:])\n",
        "        except:\n",
        "          quantity = '-1'\n",
        "\n",
        "\n",
        "\n",
        "        # Get current price\n",
        "        try:\n",
        "          price = product.get('data-price')\n",
        "        except:\n",
        "          price = '-1'\n",
        "        \n",
        "        # Get original price\n",
        "        # original_price equals to current price if no discount\n",
        "        try:\n",
        "          if product.get('data-base_price') == '':\n",
        "            original_price = price\n",
        "        except:\n",
        "          original_price = '-1'\n",
        "\n",
        "        # Get unnit price\n",
        "        try:\n",
        "          unit_price = item.find('span', {'class': 'bigprice'}).text.strip() + item.find('span', {'class': 'type'}).text.strip()\n",
        "        except:\n",
        "          unit_price = -1\n",
        "        \n",
        "        # Get promotion info\n",
        "        try:\n",
        "          promotion = item.find('input', {'class':'view_promotion'}).get('data-promotion_name')\n",
        "        except: \n",
        "          promotion = '-1'\n",
        "\n",
        "        # Get product link\n",
        "        link = product.get('href')\n",
        "        link = 'https://drive.carrefour.be' + link\n",
        "\n",
        "        food = {\n",
        "            'product_id': product_id,\n",
        "            'brand': brand,\n",
        "            'product_name': product_name,\n",
        "            'quantity': quantity,\n",
        "            'price': price, # current price\n",
        "            'original_price': original_price,\n",
        "            'unit_price': unit_price,\n",
        "            'promotion': promotion,\n",
        "            'link':link\n",
        "        }\n",
        "        \n",
        "        products_one_page.append(food)\n",
        "    \n",
        "    # Link to next page\n",
        "    url_tag = html_soup.find('li',{'class':'pagination-next'})\n",
        "    \n",
        "    # if page_no < 4: \n",
        "    if url_tag.find('a').get('href') != '#':\n",
        "        url= 'https://drive.carrefour.be' + url_tag.find('a').get('href')\n",
        "        products_all += products_one_page       \n",
        "        page_no += 1\n",
        "    else:\n",
        "        products_all += products_one_page\n",
        "        break\n",
        "        \n",
        "  print(\"There're totally {} pages, {} products.\".format(page_no, len(products_all)))    \n",
        "  return products_all\n",
        "  \n",
        "\n",
        "\n",
        "        "
      ],
      "execution_count": null,
      "outputs": []
    },
    {
      "cell_type": "code",
      "metadata": {
        "colab": {
          "base_uri": "https://localhost:8080/",
          "height": 368
        },
        "id": "vYslyvTV0BEa",
        "outputId": "37994cce-c16e-4e0e-cc5b-1bd4afab248f"
      },
      "source": [
        "t0 = time.time()\n",
        "print(t0)\n",
        "Carrefour_food = html_parse(CarrefourURL) \n",
        "t1 = time.time()\n",
        "total_time = t1-t0\n",
        "print(total_time)"
      ],
      "execution_count": null,
      "outputs": [
        {
          "output_type": "stream",
          "name": "stdout",
          "text": [
            "1636437623.717057\n"
          ]
        },
        {
          "output_type": "error",
          "ename": "AttributeError",
          "evalue": "ignored",
          "traceback": [
            "\u001b[0;31m---------------------------------------------------------------------------\u001b[0m",
            "\u001b[0;31mAttributeError\u001b[0m                            Traceback (most recent call last)",
            "\u001b[0;32m<ipython-input-9-22c0dac4f353>\u001b[0m in \u001b[0;36m<module>\u001b[0;34m()\u001b[0m\n\u001b[1;32m      1\u001b[0m \u001b[0mt0\u001b[0m \u001b[0;34m=\u001b[0m \u001b[0mtime\u001b[0m\u001b[0;34m.\u001b[0m\u001b[0mtime\u001b[0m\u001b[0;34m(\u001b[0m\u001b[0;34m)\u001b[0m\u001b[0;34m\u001b[0m\u001b[0;34m\u001b[0m\u001b[0m\n\u001b[1;32m      2\u001b[0m \u001b[0mprint\u001b[0m\u001b[0;34m(\u001b[0m\u001b[0mt0\u001b[0m\u001b[0;34m)\u001b[0m\u001b[0;34m\u001b[0m\u001b[0;34m\u001b[0m\u001b[0m\n\u001b[0;32m----> 3\u001b[0;31m \u001b[0mCarrefour_food\u001b[0m \u001b[0;34m=\u001b[0m \u001b[0mhtml_parse\u001b[0m\u001b[0;34m(\u001b[0m\u001b[0mCarrefourURL\u001b[0m\u001b[0;34m)\u001b[0m\u001b[0;34m\u001b[0m\u001b[0;34m\u001b[0m\u001b[0m\n\u001b[0m\u001b[1;32m      4\u001b[0m \u001b[0mt1\u001b[0m \u001b[0;34m=\u001b[0m \u001b[0mtime\u001b[0m\u001b[0;34m.\u001b[0m\u001b[0mtime\u001b[0m\u001b[0;34m(\u001b[0m\u001b[0;34m)\u001b[0m\u001b[0;34m\u001b[0m\u001b[0;34m\u001b[0m\u001b[0m\n\u001b[1;32m      5\u001b[0m \u001b[0mtotal_time\u001b[0m \u001b[0;34m=\u001b[0m \u001b[0mt1\u001b[0m\u001b[0;34m-\u001b[0m\u001b[0mt0\u001b[0m\u001b[0;34m\u001b[0m\u001b[0;34m\u001b[0m\u001b[0m\n",
            "\u001b[0;32m<ipython-input-8-d583bd3d677a>\u001b[0m in \u001b[0;36mhtml_parse\u001b[0;34m(url)\u001b[0m\n\u001b[1;32m    132\u001b[0m \u001b[0;34m\u001b[0m\u001b[0m\n\u001b[1;32m    133\u001b[0m     \u001b[0;31m# if page_no < 4:\u001b[0m\u001b[0;34m\u001b[0m\u001b[0;34m\u001b[0m\u001b[0;34m\u001b[0m\u001b[0m\n\u001b[0;32m--> 134\u001b[0;31m     \u001b[0;32mif\u001b[0m \u001b[0murl_tag\u001b[0m\u001b[0;34m.\u001b[0m\u001b[0mfind\u001b[0m\u001b[0;34m(\u001b[0m\u001b[0;34m'a'\u001b[0m\u001b[0;34m)\u001b[0m\u001b[0;34m.\u001b[0m\u001b[0mget\u001b[0m\u001b[0;34m(\u001b[0m\u001b[0;34m'href'\u001b[0m\u001b[0;34m)\u001b[0m \u001b[0;34m!=\u001b[0m \u001b[0;34m'#'\u001b[0m\u001b[0;34m:\u001b[0m\u001b[0;34m\u001b[0m\u001b[0;34m\u001b[0m\u001b[0m\n\u001b[0m\u001b[1;32m    135\u001b[0m         \u001b[0murl\u001b[0m\u001b[0;34m=\u001b[0m \u001b[0;34m'https://drive.carrefour.be'\u001b[0m \u001b[0;34m+\u001b[0m \u001b[0murl_tag\u001b[0m\u001b[0;34m.\u001b[0m\u001b[0mfind\u001b[0m\u001b[0;34m(\u001b[0m\u001b[0;34m'a'\u001b[0m\u001b[0;34m)\u001b[0m\u001b[0;34m.\u001b[0m\u001b[0mget\u001b[0m\u001b[0;34m(\u001b[0m\u001b[0;34m'href'\u001b[0m\u001b[0;34m)\u001b[0m\u001b[0;34m\u001b[0m\u001b[0;34m\u001b[0m\u001b[0m\n\u001b[1;32m    136\u001b[0m         \u001b[0mproducts_all\u001b[0m \u001b[0;34m+=\u001b[0m \u001b[0mproducts_one_page\u001b[0m\u001b[0;34m\u001b[0m\u001b[0;34m\u001b[0m\u001b[0m\n",
            "\u001b[0;31mAttributeError\u001b[0m: 'NoneType' object has no attribute 'find'"
          ]
        }
      ]
    },
    {
      "cell_type": "code",
      "metadata": {
        "id": "TKY2xu01510F"
      },
      "source": [
        "def output(productslist):\n",
        "    # Convert the products list into a pandas dataframe and save as a csv file\n",
        "    productsdf = pd.DataFrame(productslist)\n",
        "    productsdf.to_csv('Carrefour_food.csv', index = False) #set index to false to avoid the pandas indexing\n",
        "    print('Saved to CSV')\n",
        "    return\n"
      ],
      "execution_count": null,
      "outputs": []
    },
    {
      "cell_type": "code",
      "metadata": {
        "colab": {
          "base_uri": "https://localhost:8080/"
        },
        "id": "zP3W8jE60Iud",
        "outputId": "069761a4-527c-401e-acdc-7cdb6fdcaa10"
      },
      "source": [
        "CarrefourProductsList = output(Carrefour_food)"
      ],
      "execution_count": null,
      "outputs": [
        {
          "output_type": "stream",
          "name": "stdout",
          "text": [
            "Saved to CSV\n"
          ]
        }
      ]
    },
    {
      "cell_type": "code",
      "metadata": {
        "id": "2oBqMHfxIaKo"
      },
      "source": [
        ""
      ],
      "execution_count": null,
      "outputs": []
    }
  ]
}