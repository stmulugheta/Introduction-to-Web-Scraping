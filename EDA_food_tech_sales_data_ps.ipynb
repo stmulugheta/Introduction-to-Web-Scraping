{
  "nbformat": 4,
  "nbformat_minor": 0,
  "metadata": {
    "colab": {
      "name": "EDA_food_tech_sales_data_ps.ipynb",
      "provenance": [],
      "collapsed_sections": [],
      "include_colab_link": true
    },
    "kernelspec": {
      "name": "python3",
      "display_name": "Python 3"
    }
  },
  "cells": [
    {
      "cell_type": "markdown",
      "metadata": {
        "id": "view-in-github",
        "colab_type": "text"
      },
      "source": [
        "<a href=\"https://colab.research.google.com/github/stmulugheta/Introduction-to-Web-Scraping/blob/main/EDA_food_tech_sales_data_ps.ipynb\" target=\"_parent\"><img src=\"https://colab.research.google.com/assets/colab-badge.svg\" alt=\"Open In Colab\"/></a>"
      ]
    },
    {
      "cell_type": "markdown",
      "metadata": {
        "id": "6Ftm_aQHPWlB"
      },
      "source": [
        "####Connect to gdrive - after you add a short to the share folder for Omdena-FoodTech share folder:\n",
        "\n",
        "https://drive.google.com/drive/folders/1i0d0dunkx6Lq_XszB-yiXc46yYENuB0S?usp=sharing\n"
      ]
    },
    {
      "cell_type": "code",
      "metadata": {
        "colab": {
          "base_uri": "https://localhost:8080/"
        },
        "id": "nz9KOGK6PNFP",
        "outputId": "739aed90-f551-46be-b54f-fedc8714a23a"
      },
      "source": [
        "from google.colab import drive\n",
        "drive.mount('/content/drive')"
      ],
      "execution_count": null,
      "outputs": [
        {
          "output_type": "stream",
          "name": "stdout",
          "text": [
            "Mounted at /content/drive\n"
          ]
        }
      ]
    },
    {
      "cell_type": "markdown",
      "metadata": {
        "id": "Kkqh7Et-P7vY"
      },
      "source": [
        "#### Import libraries"
      ]
    },
    {
      "cell_type": "code",
      "metadata": {
        "id": "fAGkZ4IkOu1P"
      },
      "source": [
        "import os, sys\n",
        "import pandas as pd\n",
        "import matplotlib.pyplot as plt\n",
        "import seaborn as sns\n",
        "import numpy as np\n"
      ],
      "execution_count": null,
      "outputs": []
    },
    {
      "cell_type": "markdown",
      "metadata": {
        "id": "FYsWs7eTP-bw"
      },
      "source": [
        "#### Load data and check columns"
      ]
    },
    {
      "cell_type": "code",
      "metadata": {
        "colab": {
          "base_uri": "https://localhost:8080/"
        },
        "id": "YX96O6A8TCVf",
        "outputId": "c66ddd6e-73fa-46cb-bce4-0377402105f2"
      },
      "source": [
        "baseFolder = \"/content/drive/MyDrive/Official_Folder_Omdena_FoodTech\"\n",
        "df_sales = pd.read_csv(os.path.join(baseFolder, '3_Data','sales_data.csv'), index_col=0)\n",
        "df_sales.info()\n"
      ],
      "execution_count": null,
      "outputs": [
        {
          "output_type": "stream",
          "name": "stdout",
          "text": [
            "<class 'pandas.core.frame.DataFrame'>\n",
            "Int64Index: 48564 entries, 0 to 2555\n",
            "Data columns (total 4 columns):\n",
            " #   Column      Non-Null Count  Dtype \n",
            "---  ------      --------------  ----- \n",
            " 0   date        48564 non-null  object\n",
            " 1   product_id  48564 non-null  object\n",
            " 2   store_id    48564 non-null  object\n",
            " 3   sales       48564 non-null  int64 \n",
            "dtypes: int64(1), object(3)\n",
            "memory usage: 1.9+ MB\n"
          ]
        }
      ]
    },
    {
      "cell_type": "code",
      "metadata": {
        "colab": {
          "base_uri": "https://localhost:8080/"
        },
        "id": "O9Ppn5_hv77n",
        "outputId": "ff7301a8-d88a-4f7b-a167-f1b22c5cb293"
      },
      "source": [
        "# columns in the data\n",
        "df_sales.columns"
      ],
      "execution_count": null,
      "outputs": [
        {
          "output_type": "execute_result",
          "data": {
            "text/plain": [
              "Index(['date', 'product_id', 'store_id', 'sales'], dtype='object')"
            ]
          },
          "metadata": {},
          "execution_count": 6
        }
      ]
    },
    {
      "cell_type": "code",
      "metadata": {
        "colab": {
          "base_uri": "https://localhost:8080/",
          "height": 203
        },
        "id": "dpTcFHT-QxHe",
        "outputId": "a2776907-1cbc-4172-f746-8a4b6875ec5e"
      },
      "source": [
        "df_sales.head()"
      ],
      "execution_count": null,
      "outputs": [
        {
          "output_type": "execute_result",
          "data": {
            "text/html": [
              "<div>\n",
              "<style scoped>\n",
              "    .dataframe tbody tr th:only-of-type {\n",
              "        vertical-align: middle;\n",
              "    }\n",
              "\n",
              "    .dataframe tbody tr th {\n",
              "        vertical-align: top;\n",
              "    }\n",
              "\n",
              "    .dataframe thead th {\n",
              "        text-align: right;\n",
              "    }\n",
              "</style>\n",
              "<table border=\"1\" class=\"dataframe\">\n",
              "  <thead>\n",
              "    <tr style=\"text-align: right;\">\n",
              "      <th></th>\n",
              "      <th>date</th>\n",
              "      <th>product_id</th>\n",
              "      <th>store_id</th>\n",
              "      <th>sales</th>\n",
              "    </tr>\n",
              "  </thead>\n",
              "  <tbody>\n",
              "    <tr>\n",
              "      <th>0</th>\n",
              "      <td>2020-01-01</td>\n",
              "      <td>p39288641</td>\n",
              "      <td>s603</td>\n",
              "      <td>122</td>\n",
              "    </tr>\n",
              "    <tr>\n",
              "      <th>1</th>\n",
              "      <td>2020-01-01</td>\n",
              "      <td>p39288641</td>\n",
              "      <td>s703</td>\n",
              "      <td>64</td>\n",
              "    </tr>\n",
              "    <tr>\n",
              "      <th>2</th>\n",
              "      <td>2020-01-01</td>\n",
              "      <td>p39288641</td>\n",
              "      <td>s803</td>\n",
              "      <td>25</td>\n",
              "    </tr>\n",
              "    <tr>\n",
              "      <th>3</th>\n",
              "      <td>2020-01-01</td>\n",
              "      <td>p39288641</td>\n",
              "      <td>s903</td>\n",
              "      <td>8</td>\n",
              "    </tr>\n",
              "    <tr>\n",
              "      <th>4</th>\n",
              "      <td>2020-01-01</td>\n",
              "      <td>p39288641</td>\n",
              "      <td>s453</td>\n",
              "      <td>154</td>\n",
              "    </tr>\n",
              "  </tbody>\n",
              "</table>\n",
              "</div>"
            ],
            "text/plain": [
              "         date product_id store_id  sales\n",
              "0  2020-01-01  p39288641     s603    122\n",
              "1  2020-01-01  p39288641     s703     64\n",
              "2  2020-01-01  p39288641     s803     25\n",
              "3  2020-01-01  p39288641     s903      8\n",
              "4  2020-01-01  p39288641     s453    154"
            ]
          },
          "metadata": {},
          "execution_count": 7
        }
      ]
    },
    {
      "cell_type": "code",
      "metadata": {
        "id": "ihv_5qo5I4vq"
      },
      "source": [
        "# unique sales - dates\n",
        "print(df_sales.date.unique())"
      ],
      "execution_count": null,
      "outputs": []
    },
    {
      "cell_type": "code",
      "metadata": {
        "colab": {
          "base_uri": "https://localhost:8080/"
        },
        "id": "0ETaYzM7Ppe_",
        "outputId": "20f17e3a-b35a-48d6-e01c-7e63fcc0616a"
      },
      "source": [
        "print(\"max date          min date\")\n",
        "df_sales.date.max(), df_sales.date.min()"
      ],
      "execution_count": null,
      "outputs": [
        {
          "output_type": "stream",
          "name": "stdout",
          "text": [
            "max date          min date\n"
          ]
        },
        {
          "output_type": "execute_result",
          "data": {
            "text/plain": [
              "('2021-09-30', '2020-01-01')"
            ]
          },
          "metadata": {},
          "execution_count": 12
        }
      ]
    },
    {
      "cell_type": "code",
      "metadata": {
        "colab": {
          "base_uri": "https://localhost:8080/"
        },
        "id": "_q3skYHlQ8jQ",
        "outputId": "cb570df5-c532-43cd-9800-7b1d1f9e4b20"
      },
      "source": [
        "# unique store_id (s)\n",
        "print(df_sales.store_id.unique())"
      ],
      "execution_count": null,
      "outputs": [
        {
          "output_type": "stream",
          "name": "stdout",
          "text": [
            "['s603' 's703' 's803' 's903' 's453' 's895' 's417']\n"
          ]
        }
      ]
    },
    {
      "cell_type": "code",
      "metadata": {
        "colab": {
          "base_uri": "https://localhost:8080/",
          "height": 300
        },
        "id": "3PoJaOGhbFJ7",
        "outputId": "769bce43-aad8-42f0-ef40-34c3e674b624"
      },
      "source": [
        "# some stats\n",
        "df_sales.describe()"
      ],
      "execution_count": null,
      "outputs": [
        {
          "output_type": "execute_result",
          "data": {
            "text/html": [
              "<div>\n",
              "<style scoped>\n",
              "    .dataframe tbody tr th:only-of-type {\n",
              "        vertical-align: middle;\n",
              "    }\n",
              "\n",
              "    .dataframe tbody tr th {\n",
              "        vertical-align: top;\n",
              "    }\n",
              "\n",
              "    .dataframe thead th {\n",
              "        text-align: right;\n",
              "    }\n",
              "</style>\n",
              "<table border=\"1\" class=\"dataframe\">\n",
              "  <thead>\n",
              "    <tr style=\"text-align: right;\">\n",
              "      <th></th>\n",
              "      <th>sales</th>\n",
              "    </tr>\n",
              "  </thead>\n",
              "  <tbody>\n",
              "    <tr>\n",
              "      <th>count</th>\n",
              "      <td>48564.000000</td>\n",
              "    </tr>\n",
              "    <tr>\n",
              "      <th>mean</th>\n",
              "      <td>41.726258</td>\n",
              "    </tr>\n",
              "    <tr>\n",
              "      <th>std</th>\n",
              "      <td>45.410794</td>\n",
              "    </tr>\n",
              "    <tr>\n",
              "      <th>min</th>\n",
              "      <td>0.000000</td>\n",
              "    </tr>\n",
              "    <tr>\n",
              "      <th>25%</th>\n",
              "      <td>9.000000</td>\n",
              "    </tr>\n",
              "    <tr>\n",
              "      <th>50%</th>\n",
              "      <td>23.000000</td>\n",
              "    </tr>\n",
              "    <tr>\n",
              "      <th>75%</th>\n",
              "      <td>61.000000</td>\n",
              "    </tr>\n",
              "    <tr>\n",
              "      <th>max</th>\n",
              "      <td>335.000000</td>\n",
              "    </tr>\n",
              "  </tbody>\n",
              "</table>\n",
              "</div>"
            ],
            "text/plain": [
              "              sales\n",
              "count  48564.000000\n",
              "mean      41.726258\n",
              "std       45.410794\n",
              "min        0.000000\n",
              "25%        9.000000\n",
              "50%       23.000000\n",
              "75%       61.000000\n",
              "max      335.000000"
            ]
          },
          "metadata": {},
          "execution_count": 9
        }
      ]
    },
    {
      "cell_type": "markdown",
      "metadata": {
        "id": "Ty__j8FpTyvP"
      },
      "source": [
        "####Visualize"
      ]
    },
    {
      "cell_type": "markdown",
      "metadata": {
        "id": "BxpF2JUNaYe0"
      },
      "source": [
        "####Plot by product_id"
      ]
    },
    {
      "cell_type": "code",
      "metadata": {
        "colab": {
          "base_uri": "https://localhost:8080/",
          "height": 387
        },
        "id": "AVEm4isdT70B",
        "outputId": "199ed10a-87d6-43ae-c71a-3d61f2db6738"
      },
      "source": [
        "sns.catplot(x = \"store_id\",       # x var name\n",
        "            y = \"sales\",       # y var name\n",
        "            hue = \"product_id\",  # group variable name\n",
        "            data = df_sales,     # data to plot\n",
        "            kind = \"bar\")\n"
      ],
      "execution_count": null,
      "outputs": [
        {
          "output_type": "execute_result",
          "data": {
            "text/plain": [
              "<seaborn.axisgrid.FacetGrid at 0x7f57d8e0cdd0>"
            ]
          },
          "metadata": {},
          "execution_count": 10
        },
        {
          "output_type": "display_data",
          "data": {
            "image/png": "[encoded data removed]",
            "text/plain": [
              "<Figure size 453.125x360 with 1 Axes>"
            ]
          },
          "metadata": {
            "needs_background": "light"
          }
        }
      ]
    },
    {
      "cell_type": "markdown",
      "metadata": {
        "id": "pwZYI8E0aeHD"
      },
      "source": [
        "####Groupby 'store_id' & 'product_id' and calculate the total sales as 'total_sales' and plot"
      ]
    },
    {
      "cell_type": "code",
      "metadata": {
        "colab": {
          "base_uri": "https://localhost:8080/",
          "height": 206
        },
        "id": "r_5sFzQDVYcx",
        "outputId": "8fed67c7-6254-4fc5-831d-3350016b8567"
      },
      "source": [
        "df_grp = df_sales.groupby(['store_id', 'product_id'])['sales'].sum().reset_index().rename(columns={\"sales\":\"total_sales\"})\n",
        "df_grp.head()"
      ],
      "execution_count": null,
      "outputs": [
        {
          "output_type": "execute_result",
          "data": {
            "text/html": [
              "<div>\n",
              "<style scoped>\n",
              "    .dataframe tbody tr th:only-of-type {\n",
              "        vertical-align: middle;\n",
              "    }\n",
              "\n",
              "    .dataframe tbody tr th {\n",
              "        vertical-align: top;\n",
              "    }\n",
              "\n",
              "    .dataframe thead th {\n",
              "        text-align: right;\n",
              "    }\n",
              "</style>\n",
              "<table border=\"1\" class=\"dataframe\">\n",
              "  <thead>\n",
              "    <tr style=\"text-align: right;\">\n",
              "      <th></th>\n",
              "      <th>store_id</th>\n",
              "      <th>product_id</th>\n",
              "      <th>total_sales</th>\n",
              "    </tr>\n",
              "  </thead>\n",
              "  <tbody>\n",
              "    <tr>\n",
              "      <th>0</th>\n",
              "      <td>s417</td>\n",
              "      <td>p39209542</td>\n",
              "      <td>69981</td>\n",
              "    </tr>\n",
              "    <tr>\n",
              "      <th>1</th>\n",
              "      <td>s417</td>\n",
              "      <td>p39216303</td>\n",
              "      <td>4622</td>\n",
              "    </tr>\n",
              "    <tr>\n",
              "      <th>2</th>\n",
              "      <td>s417</td>\n",
              "      <td>p39219151</td>\n",
              "      <td>8842</td>\n",
              "    </tr>\n",
              "    <tr>\n",
              "      <th>3</th>\n",
              "      <td>s417</td>\n",
              "      <td>p39229782</td>\n",
              "      <td>2000</td>\n",
              "    </tr>\n",
              "    <tr>\n",
              "      <th>4</th>\n",
              "      <td>s417</td>\n",
              "      <td>p39231702</td>\n",
              "      <td>26010</td>\n",
              "    </tr>\n",
              "  </tbody>\n",
              "</table>\n",
              "</div>"
            ],
            "text/plain": [
              "  store_id product_id  total_sales\n",
              "0     s417  p39209542        69981\n",
              "1     s417  p39216303         4622\n",
              "2     s417  p39219151         8842\n",
              "3     s417  p39229782         2000\n",
              "4     s417  p39231702        26010"
            ]
          },
          "metadata": {},
          "execution_count": 12
        }
      ]
    },
    {
      "cell_type": "code",
      "metadata": {
        "colab": {
          "base_uri": "https://localhost:8080/"
        },
        "id": "F4fGGEzzVqoD",
        "outputId": "b6ac4d2f-7266-45ac-d0dd-5ee4e4b03e87"
      },
      "source": [
        "ax = sns.barplot(x='store_id', y='total_sales', data=df_grp,\n",
        "                 ci=None)"
      ],
      "execution_count": null,
      "outputs": [
        {
          "output_type": "display_data",
          "data": {
            "image/png": "[encoded data removed]",
            "text/plain": [
              "<Figure size 432x288 with 1 Axes>"
            ]
          },
          "metadata": {
            "needs_background": "light"
          }
        }
      ]
    }
  ]
}